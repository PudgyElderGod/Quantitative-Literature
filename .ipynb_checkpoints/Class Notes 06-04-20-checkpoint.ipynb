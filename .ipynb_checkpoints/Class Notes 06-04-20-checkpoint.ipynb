{
 "cells": [
  {
   "cell_type": "code",
   "execution_count": 21,
   "metadata": {},
   "outputs": [
    {
     "name": "stdout",
     "output_type": "stream",
     "text": [
      "Radius: 12\n",
      "Circumference is 75.40\n"
     ]
    }
   ],
   "source": [
    "#Find the Circumference of a circle\n",
    "import math\n",
    "pi = math.pi\n",
    "\n",
    "radius = float(input(\"Radius: \"))\n",
    "circumference = 2*pi*radius\n",
    "\n",
    "print(\"Circumference is %.2f\" % circumference)"
   ]
  },
  {
   "cell_type": "code",
   "execution_count": 20,
   "metadata": {},
   "outputs": [
    {
     "name": "stdout",
     "output_type": "stream",
     "text": [
      "Radian: 12\n",
      "Surface Area is 150.80\n"
     ]
    }
   ],
   "source": [
    "#Find the Area of a Sphere\n",
    "\n",
    "radian = float(input(\"Radian: \"))\n",
    "s_area = 4*pi*radian\n",
    "\n",
    "print(\"Surface Area is %.2f\" % s_area)"
   ]
  },
  {
   "cell_type": "code",
   "execution_count": 22,
   "metadata": {},
   "outputs": [
    {
     "name": "stdout",
     "output_type": "stream",
     "text": [
      "Height: 12\n",
      "Base The First: 4\n",
      "Base The Second: 5\n",
      "Area is 54.00\n"
     ]
    }
   ],
   "source": [
    "#Find the Area of a Trapezoid\n",
    "\n",
    "height = float(input(\"Height: \"))\n",
    "base1 = float(input(\"Base The First: \"))\n",
    "base2 = float(input(\"Base The Second: \"))\n",
    "\n",
    "area = ((base1+base2)/2)*height\n",
    "\n",
    "print(\"Area is %.2f\" % area)"
   ]
  },
  {
   "cell_type": "code",
   "execution_count": 24,
   "metadata": {},
   "outputs": [
    {
     "name": "stdout",
     "output_type": "stream",
     "text": [
      "The Mean is 4.33\n"
     ]
    }
   ],
   "source": [
    "#Calculating Mean\n",
    "import statistics\n",
    "\n",
    "series = [3,4,5,1,6,7]\n",
    "mean = statistics.mean(series)\n",
    "\n",
    "print(\"The Mean is %.2f\" % mean)"
   ]
  },
  {
   "cell_type": "code",
   "execution_count": 36,
   "metadata": {},
   "outputs": [
    {
     "name": "stdout",
     "output_type": "stream",
     "text": [
      "The Mean is 4.33 \n"
     ]
    }
   ],
   "source": [
    "#Mean the Dumb Way\n",
    "\n",
    "num_set1 = [3,4,5,1,6,7] \n",
    "X = len(num_set1) \n",
    "  \n",
    "Sum = sum(num_set1) \n",
    "mean = Sum / X\n",
    "  \n",
    "print(\"The Mean is %.2f \" % mean) "
   ]
  },
  {
   "cell_type": "code",
   "execution_count": 31,
   "metadata": {},
   "outputs": [
    {
     "name": "stdout",
     "output_type": "stream",
     "text": [
      "The Standard Deviation is 2.62\n"
     ]
    }
   ],
   "source": [
    "#Standard Deviation\n",
    "\n",
    "num_set2 = [3,5,9,8,1,5,6,7]\n",
    "st_dev = statistics.stdev(num_set2)\n",
    "\n",
    "print(\"The Standard Deviation is %.2f\" % st_dev)"
   ]
  },
  {
   "cell_type": "code",
   "execution_count": 32,
   "metadata": {},
   "outputs": [
    {
     "name": "stdout",
     "output_type": "stream",
     "text": [
      "The Standard Deviation is 2.62\n"
     ]
    }
   ],
   "source": [
    "#Standard Deviation the Dumb Way\n",
    "from math import sqrt\n",
    " \n",
    "def mean(numbers):\n",
    "    return sum(numbers)/len(numbers)\n",
    " \n",
    "num_set3 = [3,5,9,8,1,5,6,7]\n",
    "std_dev = sqrt(sum([(number - mean(num_set3)) ** 2 for number in num_set3]) / (len(num_set3) - 1))\n",
    "print(\"The Standard Deviation is %.2f\" % std_dev)"
   ]
  },
  {
   "cell_type": "code",
   "execution_count": null,
   "metadata": {},
   "outputs": [],
   "source": []
  }
 ],
 "metadata": {
  "kernelspec": {
   "display_name": "Python 3",
   "language": "python",
   "name": "python3"
  },
  "language_info": {
   "codemirror_mode": {
    "name": "ipython",
    "version": 3
   },
   "file_extension": ".py",
   "mimetype": "text/x-python",
   "name": "python",
   "nbconvert_exporter": "python",
   "pygments_lexer": "ipython3",
   "version": "3.7.4"
  }
 },
 "nbformat": 4,
 "nbformat_minor": 4
}
